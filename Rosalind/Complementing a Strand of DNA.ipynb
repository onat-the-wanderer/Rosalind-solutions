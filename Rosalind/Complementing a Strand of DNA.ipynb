{
 "cells": [
  {
   "cell_type": "code",
   "execution_count": null,
   "id": "a1f7a890",
   "metadata": {},
   "outputs": [],
   "source": [
    "#/Users/onat/Downloads/rosalind_dna-2.txt\n",
    "def complementary(dna):\n",
    "    pairs= {\n",
    "        \"A\":\"T\",\n",
    "        \"T\":\"A\",\n",
    "        \"G\":\"C\",\n",
    "        \"C\":\"G\"} #zip('ACGT', 'TGCA')\n",
    "    cdna=[]\n",
    "    for nuc in dna[::-1]:\n",
    "        cdna.append(pairs[nuc])\n",
    "    cdna=\"\".join(cdna)\n",
    "    file=open(\"result.txt\",\"w+\")\n",
    "    file.write(cdna)\n",
    "    file.close\n",
    "    return print(cdna)\n",
    "\n",
    "    \n",
    "    \n",
    "    \n",
    "#/Users/onat/Downloads/rosalind_dna-2.txt\n",
    "dir=input(\"type direction\")\n",
    "with open(dir,\"r\") as f:\n",
    "    f=f.read().strip()\n",
    "complementary(f)"
   ]
  }
 ],
 "metadata": {
  "kernelspec": {
   "display_name": "Python 3 (ipykernel)",
   "language": "python",
   "name": "python3"
  },
  "language_info": {
   "codemirror_mode": {
    "name": "ipython",
    "version": 3
   },
   "file_extension": ".py",
   "mimetype": "text/x-python",
   "name": "python",
   "nbconvert_exporter": "python",
   "pygments_lexer": "ipython3",
   "version": "3.9.12"
  }
 },
 "nbformat": 4,
 "nbformat_minor": 5
}
