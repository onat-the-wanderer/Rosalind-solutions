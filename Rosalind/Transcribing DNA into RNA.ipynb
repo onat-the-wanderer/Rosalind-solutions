{
 "cells": [
  {
   "cell_type": "code",
   "execution_count": 2,
   "id": "5359f0b0",
   "metadata": {},
   "outputs": [
    {
     "name": "stdout",
     "output_type": "stream",
     "text": [
      "type direction/Users/onat/Downloads/rosalind_dna-2.txt\n",
      "CCAUGCUCAUAGGUGGGGUAGCUCCGCUGUAGGUUCAGAUGACUCGUGACGAUCACAAUGAAGUUCCGGAGGUUCCCGUGCACAGUGAGUUACGGUACUACCAGCCCUGGCGCACAUCCUUCACUACUUCUUGUUUCAGUAGCCAUUAGAGGCUAUGUCAUGUCGAUAAUGAGUCGAACGGGCCACCGUCCUAUCUCUAAUGUUCUUUUGAUAUGGGGCCGAAUCAUCGGCGCACCUAGCCCAUAGAGUCUAUCUCGUUACAACGACCGAGAGCUAUCGGUCUGACAGGAGUAAAUUAUAGUGGUGGGGUCCACCAAAUUAUUGUUAUCAGAUAUUCGGUUUAUACAACCCGGAAGUCUCCUUUUCUAGUUCUGUCUACAGCUUUUGGCCUUAUAGUGUCAAAGCAUUUCCCACACCUAGUAUAAUACACCCGAUCGCAGAAGUUAAAGUUACCAAAUAAGAAUUGGGGUGGCAUCAUGAUCCUUAGGCUUGGCCCGCAAGCGGUUGUCUCAGCGAACUGUCGCGAACAUCAUCUAAAGCAGGACGUCACAACGCCCGGCAGCUACUACGAGUGCUCGGCUUACCUUGGCUACCAAAGCGAGGGACAACUGACUUUCCUGACUCGAGCCCUGAUGUCCCCCUAGGUCUGGCGUGCAGUGGCAUUUGGCUGCAGCGUAGAGGUACGCCCGGCCGACCAUUUACAGUGAUCACGUAGUUCAGGCCCGUUCUAGUACCCGGUGCGGCCGCUAACUCUUUAUGCAUUAGCGCCACACCCGUGCCGGCAUUGCCUCAUACUAAGCCGUUAAACACGGUGAAUUACGCUCUAUAAUGUGCAAACCUUAAUGACCAAGGCGAUCGAGUCUGAGCCAGUAUGCGUAGUUUCGCCCUACGCUCGGGCGGAGGUCGUGGAUGAUGACAGGAUUAUUGCCUAAGUGUGAUAUAAUGGCGGGCAUGUCCG\n",
      "\n"
     ]
    }
   ],
   "source": [
    "def transcribing(dna):\n",
    "    rna=dna.replace(\"T\",\"U\")\n",
    "    file=open(\"result.txt\",\"w+\")\n",
    "    file.write(rna)\n",
    "    file.close()\n",
    "    return print(rna)\n",
    "\n",
    "dir=input(\"type direction\")\n",
    "with open(dir,\"r\") as f:\n",
    "          f=f.read()\n",
    "\n",
    "transcribing(f)\n",
    "\n",
    "\n",
    "\n",
    "\n",
    "\n",
    "\n",
    "\n"
   ]
  },
  {
   "cell_type": "code",
   "execution_count": 4,
   "id": "7809a849",
   "metadata": {},
   "outputs": [
    {
     "name": "stdout",
     "output_type": "stream",
     "text": [
      "type direction/Users/onat/Downloads/rosalind_dna-2.txt\n"
     ]
    }
   ],
   "source": [
    "dir=input(\"type direction\")\n",
    "with open(dir,\"r\") as f:\n",
    "          f=f.read()\n",
    "\n"
   ]
  }
 ],
 "metadata": {
  "kernelspec": {
   "display_name": "Python 3 (ipykernel)",
   "language": "python",
   "name": "python3"
  },
  "language_info": {
   "codemirror_mode": {
    "name": "ipython",
    "version": 3
   },
   "file_extension": ".py",
   "mimetype": "text/x-python",
   "name": "python",
   "nbconvert_exporter": "python",
   "pygments_lexer": "ipython3",
   "version": "3.9.12"
  }
 },
 "nbformat": 4,
 "nbformat_minor": 5
}
