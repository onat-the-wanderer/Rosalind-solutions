{
 "cells": [
  {
   "cell_type": "code",
   "execution_count": 1,
   "id": "24634eee",
   "metadata": {},
   "outputs": [
    {
     "name": "stdout",
     "output_type": "stream",
     "text": [
      "type direction/Users/onat/Downloads/rosalind_fib-4.txt\n",
      "(59.25925925925925, 'Rosalind_0808') {'Rosalind_6404': 40.0, 'Rosalind_5959': 45.83333333333333, 'Rosalind_0808': 59.25925925925925} 27\n"
     ]
    }
   ],
   "source": [
    "#/Users/onat/Downloads/rosalind_fib-4.txt\n",
    "def gc_content(lines):\n",
    "    result={}\n",
    "    for line in lines:\n",
    "        line=line.strip(\"\\n\").rstrip()\n",
    "        if line.startswith(\">\"):\n",
    "            label=line[1:]\n",
    "        else:\n",
    "            gccount=0\n",
    "            dnalen=0\n",
    "            gccount=gccount+line.count(\"G\")+line.count(\"C\")\n",
    "            dnalen=dnalen+len(line)\n",
    "            gccontent=(gccount/dnalen)*100\n",
    "            result[label]=gccontent\n",
    "    max_gc=max(zip(result.values(),result.keys()))\n",
    "    return print(max_gc,result,dnalen)\n",
    "        \n",
    "dir=input(\"type direction\")\n",
    "with open(dir,\"r\") as f:\n",
    "          lines=f.readlines()\n",
    "        \n",
    "gc_content(lines)\n",
    "        \n",
    "    "
   ]
  },
  {
   "cell_type": "code",
   "execution_count": 2,
   "id": "5c64a7e8",
   "metadata": {},
   "outputs": [
    {
     "name": "stdout",
     "output_type": "stream",
     "text": [
      "type direction/Users/onat/Downloads/rosalind_fib-4.txt\n",
      "Rosalind_6404\n",
      "\n",
      "0.0\n",
      "Rosalind_5959\n",
      "\n",
      "0.0\n",
      "Rosalind_0808\n",
      "\n",
      "0.0\n"
     ]
    }
   ],
   "source": [
    "def gc_content(fasta):\n",
    "    count=[0, 0]\n",
    "    for nuc in fasta:\n",
    "        if nuc== \"G\":\n",
    "            count[0]+=1\n",
    "        elif nuc==\"C\":\n",
    "            count[1]+=1\n",
    "        return (count[0]+count[1])/len(fasta)\n",
    "    \n",
    "dir=input(\"type direction\")   \n",
    "with open(dir, \"r\") as fasta:\n",
    "    nextline=str()\n",
    "    dict={}\n",
    "    for line in fasta:\n",
    "        if line.startswith(\">\"):\n",
    "            header=line[1:]\n",
    "        else:\n",
    "            nextline=(line.strip(\"\\n\") + nextline)\n",
    "        dict[header]=nextline\n",
    "        \n",
    "for key, value in dict.items():\n",
    "    print(key + \"\\n\" + str(gc_content(value)))"
   ]
  },
  {
   "cell_type": "code",
   "execution_count": 1,
   "id": "cb382d5a",
   "metadata": {
    "scrolled": true
   },
   "outputs": [
    {
     "ename": "FileNotFoundError",
     "evalue": "[Errno 2] No such file or directory: 'test_data/gc_content.txt'",
     "output_type": "error",
     "traceback": [
      "\u001b[0;31m---------------------------------------------------------------------------\u001b[0m",
      "\u001b[0;31mFileNotFoundError\u001b[0m                         Traceback (most recent call last)",
      "Input \u001b[0;32mIn [1]\u001b[0m, in \u001b[0;36m<cell line: 17>\u001b[0;34m()\u001b[0m\n\u001b[1;32m      9\u001b[0m     \u001b[38;5;28;01mreturn\u001b[39;00m \u001b[38;5;28mround\u001b[39m(\n\u001b[1;32m     10\u001b[0m         ((seq\u001b[38;5;241m.\u001b[39mcount(\u001b[38;5;124m'\u001b[39m\u001b[38;5;124mC\u001b[39m\u001b[38;5;124m'\u001b[39m) \u001b[38;5;241m+\u001b[39m seq\u001b[38;5;241m.\u001b[39mcount(\u001b[38;5;124m'\u001b[39m\u001b[38;5;124mG\u001b[39m\u001b[38;5;124m'\u001b[39m)) \u001b[38;5;241m/\u001b[39m \u001b[38;5;28mlen\u001b[39m(seq) \u001b[38;5;241m*\u001b[39m \u001b[38;5;241m100\u001b[39m), \u001b[38;5;241m6\u001b[39m)\n\u001b[1;32m     13\u001b[0m \u001b[38;5;66;03m# Calculate GC Content from FASTA formatted text file:\u001b[39;00m\n\u001b[1;32m     14\u001b[0m \n\u001b[1;32m     15\u001b[0m \u001b[38;5;66;03m# === Read data from the file (FASTA formatted file)\u001b[39;00m\n\u001b[1;32m     16\u001b[0m \u001b[38;5;66;03m# Storing File contents in a list\u001b[39;00m\n\u001b[0;32m---> 17\u001b[0m FASTAFile \u001b[38;5;241m=\u001b[39m \u001b[43mreadFile\u001b[49m\u001b[43m(\u001b[49m\u001b[38;5;124;43m\"\u001b[39;49m\u001b[38;5;124;43mtest_data/gc_content.txt\u001b[39;49m\u001b[38;5;124;43m\"\u001b[39;49m\u001b[43m)\u001b[49m\n\u001b[1;32m     18\u001b[0m \u001b[38;5;66;03m# Dictionary for Labels + Data\u001b[39;00m\n\u001b[1;32m     19\u001b[0m FASTADict \u001b[38;5;241m=\u001b[39m {}\n",
      "Input \u001b[0;32mIn [1]\u001b[0m, in \u001b[0;36mreadFile\u001b[0;34m(filePath)\u001b[0m\n\u001b[1;32m      1\u001b[0m \u001b[38;5;28;01mdef\u001b[39;00m \u001b[38;5;21mreadFile\u001b[39m(filePath):\n\u001b[1;32m      2\u001b[0m     \u001b[38;5;124;03m\"\"\"Reading a file and returning a list of lines\"\"\"\u001b[39;00m\n\u001b[0;32m----> 3\u001b[0m     \u001b[38;5;28;01mwith\u001b[39;00m \u001b[38;5;28;43mopen\u001b[39;49m\u001b[43m(\u001b[49m\u001b[43mfilePath\u001b[49m\u001b[43m,\u001b[49m\u001b[43m \u001b[49m\u001b[38;5;124;43m'\u001b[39;49m\u001b[38;5;124;43mr\u001b[39;49m\u001b[38;5;124;43m'\u001b[39;49m\u001b[43m)\u001b[49m \u001b[38;5;28;01mas\u001b[39;00m f:\n\u001b[1;32m      4\u001b[0m         \u001b[38;5;28;01mreturn\u001b[39;00m [l\u001b[38;5;241m.\u001b[39mstrip() \u001b[38;5;28;01mfor\u001b[39;00m l \u001b[38;5;129;01min\u001b[39;00m f\u001b[38;5;241m.\u001b[39mreadlines()]\n",
      "\u001b[0;31mFileNotFoundError\u001b[0m: [Errno 2] No such file or directory: 'test_data/gc_content.txt'"
     ]
    }
   ],
   "source": [
    "def readFile(filePath):\n",
    "    \"\"\"Reading a file and returning a list of lines\"\"\"\n",
    "    with open(filePath, 'r') as f:\n",
    "        return [l.strip() for l in f.readlines()]\n",
    "\n",
    "\n",
    "def gc_content(seq):\n",
    "    \"\"\"GC Content in a DNA/RNA sequence\"\"\"\n",
    "    return round(\n",
    "        ((seq.count('C') + seq.count('G')) / len(seq) * 100), 6)\n",
    "\n",
    "\n",
    "# Calculate GC Content from FASTA formatted text file:\n",
    "\n",
    "# === Read data from the file (FASTA formatted file)\n",
    "# Storing File contents in a list\n",
    "FASTAFile = readFile(\"test_data/gc_content.txt\")\n",
    "# Dictionary for Labels + Data\n",
    "FASTADict = {}\n",
    "# String for holding the current label\n",
    "FASTALabel = \"\"\n",
    "\n",
    "# === Clean/Prepare the data (Format for ease of you with our gc_content function)\n",
    "# Converting FASTA/List file data into a dictionary\n",
    "for line in FASTAFile:\n",
    "    if '>' in line:\n",
    "        FASTALabel = line\n",
    "        FASTADict[FASTALabel] = \"\"\n",
    "    else:\n",
    "        FASTADict[FASTALabel] += line\n",
    "\n",
    "# === Format the data (Store the data in a convenient way)\n",
    "# === Run needed operation on the data (pass the data to our gc_content function)\n",
    "# Using Dictionary Comprehension to generate a new dictionary with GC content value\n",
    "RESULTDict = {key: gc_content(value) for (key, value) in FASTADict.items()}\n",
    "\n",
    "# Looking for max value in values() of our new dictionary\n",
    "MaxGCKey = max(RESULTDict, key=RESULTDict.get)\n",
    "\n",
    "# === Collect results (Rosalind Submission in our case)\n",
    "# Printing Rosalind formatted result\n",
    "print(f'{MaxGCKey[1:]}\\n{RESULTDict[MaxGCKey]}')\n"
   ]
  },
  {
   "cell_type": "code",
   "execution_count": 4,
   "id": "54f3522f",
   "metadata": {},
   "outputs": [
    {
     "name": "stdout",
     "output_type": "stream",
     "text": [
      "type direction/Users/onat/Downloads/rosalind_fib-4.txt\n"
     ]
    },
    {
     "ename": "ValueError",
     "evalue": "I/O operation on closed file.",
     "output_type": "error",
     "traceback": [
      "\u001b[0;31m---------------------------------------------------------------------------\u001b[0m",
      "\u001b[0;31mValueError\u001b[0m                                Traceback (most recent call last)",
      "Input \u001b[0;32mIn [4]\u001b[0m, in \u001b[0;36m<cell line: 14>\u001b[0;34m()\u001b[0m\n\u001b[1;32m     12\u001b[0m           lines\u001b[38;5;241m=\u001b[39mf\u001b[38;5;241m.\u001b[39mreadlines()\n\u001b[1;32m     14\u001b[0m \u001b[38;5;28;01mfor\u001b[39;00m key, value \u001b[38;5;129;01min\u001b[39;00m \u001b[38;5;28mdict\u001b[39m\u001b[38;5;241m.\u001b[39mitems():\n\u001b[0;32m---> 15\u001b[0m     \u001b[38;5;28mprint\u001b[39m(key \u001b[38;5;241m+\u001b[39m \u001b[38;5;124m\"\u001b[39m\u001b[38;5;130;01m\\n\u001b[39;00m\u001b[38;5;124m\"\u001b[39m \u001b[38;5;241m+\u001b[39m \u001b[38;5;28mstr\u001b[39m(\u001b[43mgc_content\u001b[49m\u001b[43m(\u001b[49m\u001b[43mvalue\u001b[49m\u001b[43m)\u001b[49m))\n",
      "Input \u001b[0;32mIn [4]\u001b[0m, in \u001b[0;36mgc_content\u001b[0;34m(lines)\u001b[0m\n\u001b[1;32m      1\u001b[0m \u001b[38;5;28;01mdef\u001b[39;00m \u001b[38;5;21mgc_content\u001b[39m(lines):\n\u001b[1;32m      2\u001b[0m     count\u001b[38;5;241m=\u001b[39m[\u001b[38;5;241m0\u001b[39m, \u001b[38;5;241m0\u001b[39m]\n\u001b[0;32m----> 3\u001b[0m     \u001b[38;5;28;01mfor\u001b[39;00m nuc \u001b[38;5;129;01min\u001b[39;00m fasta:\n\u001b[1;32m      4\u001b[0m         \u001b[38;5;28;01mif\u001b[39;00m nuc\u001b[38;5;241m==\u001b[39m \u001b[38;5;124m\"\u001b[39m\u001b[38;5;124mG\u001b[39m\u001b[38;5;124m\"\u001b[39m:\n\u001b[1;32m      5\u001b[0m             count[\u001b[38;5;241m0\u001b[39m]\u001b[38;5;241m+\u001b[39m\u001b[38;5;241m=\u001b[39m\u001b[38;5;241m1\u001b[39m\n",
      "\u001b[0;31mValueError\u001b[0m: I/O operation on closed file."
     ]
    }
   ],
   "source": [
    "def gc_content(lines):\n",
    "    count=[0, 0]\n",
    "    for nuc in fasta:\n",
    "        if nuc== \"G\":\n",
    "            count[0]+=1\n",
    "        elif nuc==\"C\":\n",
    "            count[1]+=1\n",
    "        return (count[0]+count[1])/len(fasta)\n",
    "    \n",
    "dir=input(\"type direction\")\n",
    "with open(dir,\"r\") as f:\n",
    "          lines=f.readlines()\n",
    "        \n",
    "for key, value in dict.items():\n",
    "    print(key + \"\\n\" + str(gc_content(value)))"
   ]
  },
  {
   "cell_type": "code",
   "execution_count": 36,
   "id": "2811f7ad",
   "metadata": {},
   "outputs": [
    {
     "name": "stdout",
     "output_type": "stream",
     "text": [
      "{'Rosalind_6404': 53.75, 'Rosalind_5959': 53.57142857142857, 'Rosalind_0808': 60.91954022988506}\n",
      "TGGGAACCTGCGGGCAGTAGGTGGAAT\n"
     ]
    }
   ],
   "source": [
    "result={}\n",
    "with open('/Users/onat/Downloads/rosalind_fib-4.txt','r') as f:\n",
    "    for line in f.readlines():\n",
    "        line=line.rstrip().strip('\\n')\n",
    "        if line.startswith('>'):\n",
    "            key=line[1:]\n",
    "            dnalen,gccount=0,0\n",
    "        else:\n",
    "            gccount=gccount+line.count('G')+line.count('C')\n",
    "            dnalen=dnalen+len(line)\n",
    "            gccontent=(gccount/dnalen)*100\n",
    "            result[key]=gccontent\n",
    "print(result)\n",
    "\n",
    "\n",
    "maxgc=zip(result.values(),result.keys())\n",
    "\n",
    "print(line)\n"
   ]
  },
  {
   "cell_type": "code",
   "execution_count": 34,
   "id": "9de39b92",
   "metadata": {
    "scrolled": true
   },
   "outputs": [
    {
     "name": "stdout",
     "output_type": "stream",
     "text": [
      "[(53.75, 'Rosalind_6404'), (53.57142857142857, 'Rosalind_5959'), (60.91954022988506, 'Rosalind_0808')]\n"
     ]
    }
   ],
   "source": [
    "print(list(maxgc))"
   ]
  },
  {
   "cell_type": "code",
   "execution_count": 1,
   "id": "195b2b4b",
   "metadata": {
    "scrolled": true
   },
   "outputs": [
    {
     "name": "stdout",
     "output_type": "stream",
     "text": [
      "type direction/Users/onat/Downloads/rosalind_fib-4.txt\n",
      "(59.25925925925925, 'Rosalind_0808') {'Rosalind_6404': 40.0, 'Rosalind_5959': 45.83333333333333, 'Rosalind_0808': 59.25925925925925} 27\n"
     ]
    }
   ],
   "source": [
    "#/Users/onat/Downloads/rosalind_fib-4.txt\n",
    "def gc_content(lines):\n",
    "    result={}\n",
    "    for line in lines:\n",
    "        line=line.strip(\"\\n\").rstrip()\n",
    "        if line.startswith(\">\"):\n",
    "            label=line[1:]\n",
    "        else:\n",
    "            gccount=0\n",
    "            dnalen=0\n",
    "            gccount=gccount+line.count(\"G\")+line.count(\"C\")\n",
    "            dnalen=dnalen+len(line)\n",
    "            gccontent=(gccount/dnalen)*100\n",
    "            result[label]=gccontent\n",
    "    max_gc=max(zip(result.values(),result.keys()))\n",
    "    return print(max_gc,result,dnalen)\n",
    "        \n",
    "dir=input(\"type direction\")\n",
    "with open(dir,\"r\") as f:\n",
    "          lines=f.readlines()\n",
    "        \n",
    "gc_content(lines)\n",
    "        \n",
    "    "
   ]
  },
  {
   "cell_type": "code",
   "execution_count": 31,
   "id": "8acba091",
   "metadata": {},
   "outputs": [
    {
     "ename": "IndentationError",
     "evalue": "unexpected indent (771720816.py, line 15)",
     "output_type": "error",
     "traceback": [
      "\u001b[0;36m  Input \u001b[0;32mIn [31]\u001b[0;36m\u001b[0m\n\u001b[0;31m    return fastadict\u001b[0m\n\u001b[0m    ^\u001b[0m\n\u001b[0;31mIndentationError\u001b[0m\u001b[0;31m:\u001b[0m unexpected indent\n"
     ]
    }
   ],
   "source": [
    "def file(file):\n",
    "    with open(file,'r') as f:\n",
    "        return[l.strip () for l in f.readlines()]\n",
    "    \n",
    "    \n",
    "fastafile=file(\"/Users/onat/Downloads/rosalind_gc-3.txt\")"
   ]
  },
  {
   "cell_type": "code",
   "execution_count": 23,
   "id": "1bcfb62d",
   "metadata": {},
   "outputs": [
    {
     "name": "stdout",
     "output_type": "stream",
     "text": [
      "['>Rosalind_6404', 'CCTGCGGAAGATCGGCACTAGAATAGCCAGAACCGTTTCTCTGAGGCTTCCGGCCTTCCC', 'TCCCACTAATAATTCTGAGG', '>Rosalind_5959', 'CCATCGGTAGCGCATCCTTAGTCCAATTAAGTCCCTATCCAGGCGCTCCGCCGAAGGTCT', 'ATATCCATTTGTCAGCAGACACGC', '>Rosalind_0808', 'CCACCCTCGTGGTATGGCTAGGCATTCAGGAACCGGAGAACGCTTCAGACCAGCCCGGAC', 'TGGGAACCTGCGGGCAGTAGGTGGAAT']\n"
     ]
    }
   ],
   "source": [
    "print(fastafile)"
   ]
  },
  {
   "cell_type": "code",
   "execution_count": 46,
   "id": "8de876c8",
   "metadata": {},
   "outputs": [],
   "source": [
    "def gc_content(seq):\n",
    "    return round(((seq.count('C')+ seq.count('G')) / len(seq)) * 100,6)"
   ]
  },
  {
   "cell_type": "code",
   "execution_count": 47,
   "id": "977d81af",
   "metadata": {},
   "outputs": [],
   "source": [
    "fastadict={}\n",
    "fastalabel=\"\"\n",
    "\n",
    "for line in fastafile:\n",
    "    if '>' in line:\n",
    "        fastalabel= line\n",
    "        fastadict[fastalabel]= \"\"\n",
    "    else:\n",
    "        fastadict[fastalabel] += line\n",
    "        "
   ]
  },
  {
   "cell_type": "code",
   "execution_count": 48,
   "id": "4f3ff418",
   "metadata": {},
   "outputs": [
    {
     "data": {
      "text/plain": [
       "{'>Rosalind_6404': 'CCTGCGGAAGATCGGCACTAGAATAGCCAGAACCGTTTCTCTGAGGCTTCCGGCCTTCCCTCCCACTAATAATTCTGAGG',\n",
       " '>Rosalind_5959': 'CCATCGGTAGCGCATCCTTAGTCCAATTAAGTCCCTATCCAGGCGCTCCGCCGAAGGTCTATATCCATTTGTCAGCAGACACGC',\n",
       " '>Rosalind_0808': 'CCACCCTCGTGGTATGGCTAGGCATTCAGGAACCGGAGAACGCTTCAGACCAGCCCGGACTGGGAACCTGCGGGCAGTAGGTGGAAT'}"
      ]
     },
     "execution_count": 48,
     "metadata": {},
     "output_type": "execute_result"
    }
   ],
   "source": [
    "fastadict"
   ]
  },
  {
   "cell_type": "code",
   "execution_count": 49,
   "id": "55709516",
   "metadata": {},
   "outputs": [],
   "source": [
    "resultdict = {key: gc_content(value) for (key, value) in fastadict.items()}"
   ]
  },
  {
   "cell_type": "code",
   "execution_count": 50,
   "id": "59e79a15",
   "metadata": {},
   "outputs": [
    {
     "data": {
      "text/plain": [
       "{'>Rosalind_6404': 53.75,\n",
       " '>Rosalind_5959': 53.571429,\n",
       " '>Rosalind_0808': 60.91954}"
      ]
     },
     "execution_count": 50,
     "metadata": {},
     "output_type": "execute_result"
    }
   ],
   "source": [
    "resultdict"
   ]
  },
  {
   "cell_type": "code",
   "execution_count": 51,
   "id": "39e4b916",
   "metadata": {},
   "outputs": [],
   "source": [
    "maxgckey=max(resultdict, key=resultdict.get)"
   ]
  },
  {
   "cell_type": "code",
   "execution_count": 53,
   "id": "93f6032f",
   "metadata": {},
   "outputs": [
    {
     "name": "stdout",
     "output_type": "stream",
     "text": [
      "Rosalind_0808\n",
      "60.91954\n"
     ]
    }
   ],
   "source": [
    "print(f'{maxgckey[1:]}\\n{resultdict[maxgckey]}')"
   ]
  },
  {
   "cell_type": "code",
   "execution_count": 85,
   "id": "8b548af3",
   "metadata": {},
   "outputs": [
    {
     "name": "stdout",
     "output_type": "stream",
     "text": [
      "type direction/Users/onat/Downloads/rosalind_gc-3.txt\n"
     ]
    }
   ],
   "source": [
    "dir=input(\"type direction\")\n",
    "with open(dir,\"r\") as f:\n",
    "          lines=[l.strip() for l in f.readlines()]\n",
    "        \n",
    "dict={}\n",
    "label=\"\"\n",
    "\n",
    "for line in lines:\n",
    "    if '>' in line:\n",
    "        label=line\n",
    "        dict[label]=\"\"\n",
    "    else:\n",
    "        dict[label]+= line\n",
    "\n",
    "\n",
    "\n",
    "def gc_content(seq):\n",
    "    return round(((seq.count('C')+ seq.count('G')) / len(seq)) * 100,6)\n",
    "\n",
    "\n",
    "resultdict={key: gc_content(value) for (key, value) in dict.items()}\n",
    "maxgckey=max(resultdict, key=resultdict.get)\n",
    "\n",
    "F= f'{maxgckey[1:]}\\n{resultdict[maxgckey]}'\n",
    "\n",
    "file=open(\"result.txt\",\"w+\")    \n",
    "file.write(str(F))\n",
    "file.close()"
   ]
  },
  {
   "cell_type": "code",
   "execution_count": 78,
   "id": "eed77831",
   "metadata": {},
   "outputs": [
    {
     "data": {
      "text/plain": [
       "{'>Rosalind_6404': 53.75,\n",
       " '>Rosalind_5959': 53.571429,\n",
       " '>Rosalind_0808': 60.91954}"
      ]
     },
     "execution_count": 78,
     "metadata": {},
     "output_type": "execute_result"
    }
   ],
   "source": [
    "resultdict"
   ]
  },
  {
   "cell_type": "code",
   "execution_count": 82,
   "id": "05d23580",
   "metadata": {},
   "outputs": [
    {
     "data": {
      "text/plain": [
       "'>Rosalind_0808'"
      ]
     },
     "execution_count": 82,
     "metadata": {},
     "output_type": "execute_result"
    }
   ],
   "source": [
    "maxgckey"
   ]
  },
  {
   "cell_type": "code",
   "execution_count": null,
   "id": "6a4d9bec",
   "metadata": {},
   "outputs": [],
   "source": []
  }
 ],
 "metadata": {
  "kernelspec": {
   "display_name": "Python 3 (ipykernel)",
   "language": "python",
   "name": "python3"
  },
  "language_info": {
   "codemirror_mode": {
    "name": "ipython",
    "version": 3
   },
   "file_extension": ".py",
   "mimetype": "text/x-python",
   "name": "python",
   "nbconvert_exporter": "python",
   "pygments_lexer": "ipython3",
   "version": "3.9.12"
  }
 },
 "nbformat": 4,
 "nbformat_minor": 5
}
