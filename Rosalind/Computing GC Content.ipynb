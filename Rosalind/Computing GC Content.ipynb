{
 "cells": [
  {
   "cell_type": "code",
   "execution_count": null,
   "id": "a527e4a1",
   "metadata": {},
   "outputs": [],
   "source": [
    "dir=input(\"type direction\")\n",
    "with open(dir,\"r\") as f:\n",
    "          lines=[l.strip() for l in f.readlines()]\n",
    "        \n",
    "dict={}\n",
    "label=\"\"\n",
    "\n",
    "for line in lines:\n",
    "    if '>' in line:\n",
    "        label=line\n",
    "        dict[label]=\"\"\n",
    "    else:\n",
    "        dict[label]+= line\n",
    "\n",
    "\n",
    "\n",
    "def gc_content(seq):\n",
    "    return round(((seq.count('C')+ seq.count('G')) / len(seq)) * 100,6)\n",
    "\n",
    "\n",
    "resultdict={key: gc_content(value) for (key, value) in dict.items()}\n",
    "maxgckey=max(resultdict, key=resultdict.get)\n",
    "\n",
    "F= f'{maxgckey[1:]}\\n{resultdict[maxgckey]}'\n",
    "\n",
    "file=open(\"result.txt\",\"w+\")    \n",
    "file.write(str(F))\n",
    "file.close()"
   ]
  }
 ],
 "metadata": {
  "kernelspec": {
   "display_name": "Python 3 (ipykernel)",
   "language": "python",
   "name": "python3"
  },
  "language_info": {
   "codemirror_mode": {
    "name": "ipython",
    "version": 3
   },
   "file_extension": ".py",
   "mimetype": "text/x-python",
   "name": "python",
   "nbconvert_exporter": "python",
   "pygments_lexer": "ipython3",
   "version": "3.9.12"
  }
 },
 "nbformat": 4,
 "nbformat_minor": 5
}
