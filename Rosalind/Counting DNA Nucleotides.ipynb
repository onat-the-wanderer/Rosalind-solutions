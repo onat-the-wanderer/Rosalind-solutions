{
 "cells": [
  {
   "cell_type": "code",
   "execution_count": 1,
   "id": "89e4cbb9",
   "metadata": {},
   "outputs": [
    {
     "name": "stdout",
     "output_type": "stream",
     "text": [
      "type direction/Users/onat/Downloads/rosalind_dna-2.txt\n",
      "223 248 240 247\n"
     ]
    }
   ],
   "source": [
    "def count_DNA_nucleotides(x):\n",
    "    dict={}\n",
    "    seq=[i for i in x]\n",
    "    for nuc in seq:\n",
    "        if nuc in dict:\n",
    "            dict[nuc]+=1\n",
    "        else:\n",
    "            dict[nuc]=1\n",
    "    result= [dict[\"A\"], dict[\"C\"], dict[\"G\"], dict[\"T\"]]\n",
    "    a=str(result[0])\n",
    "    b=str(result[1])\n",
    "    c=str(result[2])\n",
    "    d=str(result[3])\n",
    "    file=open(\"result.txt\",\"w+\")\n",
    "    file.write(\"{} {} {} {}\\n\" .format(a,b,c,d))\n",
    "    file.close()\n",
    "    \n",
    "    return print(result[0],result[1],result[2],result[3])\n",
    "\n",
    "dir=input(\"type direction\")\n",
    "with open(dir,\"r\") as f:\n",
    "          f=f.read()\n",
    "\n",
    "count_DNA_nucleotides(f)\n",
    "\n",
    "#/Users/onat/Downloads/rosalind_dna-2.txt\n"
   ]
  }
 ],
 "metadata": {
  "kernelspec": {
   "display_name": "Python 3 (ipykernel)",
   "language": "python",
   "name": "python3"
  },
  "language_info": {
   "codemirror_mode": {
    "name": "ipython",
    "version": 3
   },
   "file_extension": ".py",
   "mimetype": "text/x-python",
   "name": "python",
   "nbconvert_exporter": "python",
   "pygments_lexer": "ipython3",
   "version": "3.9.12"
  }
 },
 "nbformat": 4,
 "nbformat_minor": 5
}
