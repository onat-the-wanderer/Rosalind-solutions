{
 "cells": [
  {
   "cell_type": "code",
   "execution_count": null,
   "id": "378158c2",
   "metadata": {},
   "outputs": [],
   "source": [
    "def rabbits_number(n,k):\n",
    "    Fn=1\n",
    "    Fm=1\n",
    "    for mounths in range(2,n):\n",
    "        F= Fn + k*Fm\n",
    "        Fm=Fn\n",
    "        Fn=F\n",
    "    file=open(\"result.txt\",\"w+\")\n",
    "    file.write(str(F))\n",
    "    file.close()\n",
    "    return print(F)\n",
    "        \n",
    "dir=input(\"type direction\")\n",
    "with open(dir,\"r\") as f:\n",
    "          f=f.readline().strip().split(\" \",2)\n",
    "        \n",
    "rabbits_number(int(f[0]),int(f[-1]))\n",
    "\n",
    "#/Users/onat/Downloads/rosalind_fib-4.txt"
   ]
  }
 ],
 "metadata": {
  "kernelspec": {
   "display_name": "Python 3 (ipykernel)",
   "language": "python",
   "name": "python3"
  },
  "language_info": {
   "codemirror_mode": {
    "name": "ipython",
    "version": 3
   },
   "file_extension": ".py",
   "mimetype": "text/x-python",
   "name": "python",
   "nbconvert_exporter": "python",
   "pygments_lexer": "ipython3",
   "version": "3.9.12"
  }
 },
 "nbformat": 4,
 "nbformat_minor": 5
}
